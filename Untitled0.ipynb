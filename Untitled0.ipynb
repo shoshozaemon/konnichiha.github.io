{
  "nbformat": 4,
  "nbformat_minor": 0,
  "metadata": {
    "colab": {
      "name": "Untitled0.ipynb",
      "provenance": [],
      "collapsed_sections": [],
      "authorship_tag": "ABX9TyO4DKAa+lzQ/g6ZkyQXneSm",
      "include_colab_link": true
    },
    "kernelspec": {
      "name": "python3",
      "display_name": "Python 3"
    },
    "language_info": {
      "name": "python"
    }
  },
  "cells": [
    {
      "cell_type": "markdown",
      "metadata": {
        "id": "view-in-github",
        "colab_type": "text"
      },
      "source": [
        "<a href=\"https://colab.research.google.com/github/shoshozaemon/konnichiha.github.io/blob/main/Untitled0.ipynb\" target=\"_parent\"><img src=\"https://colab.research.google.com/assets/colab-badge.svg\" alt=\"Open In Colab\"/></a>"
      ]
    },
    {
      "cell_type": "code",
      "metadata": {
        "id": "ecpLaPtuWviy"
      },
      "source": [
        "import random"
      ],
      "execution_count": null,
      "outputs": []
    },
    {
      "cell_type": "code",
      "metadata": {
        "id": "afhVKf01UID2"
      },
      "source": [
        "class Pokemon:\n",
        "  def __init__(self, name, level, type):\n",
        "    self.name = name\n",
        "    self.level = level\n",
        "    self.type = type\n",
        "    self.h =round(self.level*(random.random()+0.5))\n",
        "    self.a =round(self.level*(random.random()+0.5))\n",
        "    self.b =round(self.level*(random.random()+0.5))\n",
        "    self.c =round(self.level*(random.random()+0.5))\n",
        "    self.d =round(self.level*(random.random()+0.5))\n",
        "    self.s =round(self.level*(random.random()+0.5))\n",
        "  \n",
        "  def status(self):\n",
        "    print('名前:', self.name ,' ','レベル:', self.level ,  '','タイプ:', self.type ,  '',)\n",
        "    print('HP:', self.h , ' ','こうげき:', self.a , '','ぼうぎょ:', self.b ,  '','とくこう:', self.c , '','とくぼう:', self.d , '','すばやさ:', self.s , '',)"
      ],
      "execution_count": null,
      "outputs": []
    },
    {
      "cell_type": "code",
      "metadata": {
        "id": "G3nVHEb-W34H"
      },
      "source": [
        "gaburiasu = Pokemon(name = 'ガブリアス', level = 50,  type = 'ドラゴン')"
      ],
      "execution_count": null,
      "outputs": []
    },
    {
      "cell_type": "code",
      "metadata": {
        "colab": {
          "base_uri": "https://localhost:8080/"
        },
        "id": "rAuVTK_tXkJd",
        "outputId": "0821f661-b729-4dea-d6cc-7ae97598a1e9"
      },
      "source": [
        "gaburiasu.status()"
      ],
      "execution_count": null,
      "outputs": [
        {
          "output_type": "stream",
          "text": [
            "名前: ガブリアス   レベル: 50  タイプ: ドラゴン \n",
            "HP: 52   こうげき: 57  ぼうぎょ: 47  とくこう: 68  とくぼう: 71  すばやさ: 60 \n"
          ],
          "name": "stdout"
        }
      ]
    }
  ]
}